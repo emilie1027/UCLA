{
 "cells": [
  {
   "cell_type": "code",
   "execution_count": 12,
   "metadata": {
    "collapsed": false
   },
   "outputs": [
    {
     "name": "stdout",
     "output_type": "stream",
     "text": [
      "gamma,3,3\n",
      "gamma,2,4\n",
      "gamma,1,2\n",
      "gamma,5,2\n",
      "gamma,4,1\n",
      "gamma,3,2\n"
     ]
    }
   ],
   "source": [
    "Table = data.matrix(read.csv( file(\"HW1_test.csv\"), header=TRUE ))\n",
    "\n",
    "for (j in 1:ncol(Table)) {\n",
    "    Dataset = Table[,j]        #  j-th dataset = the j-th column of the table\n",
    "    \n",
    "    log_likelihood = function(theta) sum( log(dgamma(Dataset, theta[1], rate=theta[2])) )\n",
    "    negative_log_likelihood = function(theta) -log_likelihood(theta)\n",
    "        \n",
    "    Dataset_mean = mean(Dataset)\n",
    "    initial_theta1 = 0.5 / (log(Dataset_mean) - mean(log(Dataset)))\n",
    "    initial_theta2 = Dataset_mean/initial_theta1\n",
    "    initial_value_for_theta = c(initial_theta1, initial_theta2)\n",
    "        \n",
    "    fit = suppressWarnings( optim(initial_value_for_theta, negative_log_likelihood) )\n",
    "\n",
    "    alpha = round(fit$par[1])\n",
    "    beta  = round(fit$par[2])\n",
    "    # print integer parameters\n",
    "    cat(sprintf(\"gamma,%d,%d\\n\", alpha, beta))\n",
    "}"
   ]
  }
 ],
 "metadata": {
  "kernelspec": {
   "display_name": "R",
   "language": "R",
   "name": "ir"
  },
  "language_info": {
   "codemirror_mode": "r",
   "file_extension": ".r",
   "mimetype": "text/x-r-source",
   "name": "R",
   "pygments_lexer": "r",
   "version": "3.2.2"
  }
 },
 "nbformat": 4,
 "nbformat_minor": 0
}
